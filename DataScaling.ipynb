{
 "cells": [
  {
   "cell_type": "markdown",
   "id": "c5a4b326-82c0-4572-9067-b4880815974c",
   "metadata": {},
   "source": [
    "# Data scaling in machine learning\n",
    "is a preprocessing technique used to standardize the range of independent\n",
    "variables or features of data."
   ]
  },
  {
   "cell_type": "markdown",
   "id": "c2b68bbe-2682-449b-8e60-7ff17dfadecc",
   "metadata": {},
   "source": [
    "# Scaling Techniques: \n",
    "# 1. Min Max Normalization\n",
    "# 2. Standardization (Z Score)\n",
    "# 3. Log Transformation\n",
    "# 4. Robust Scaler\n",
    "# 5. Max Absolute Scaler"
   ]
  },
  {
   "cell_type": "markdown",
   "id": "a4e21288-407f-46bd-a19b-53ef69828dd8",
   "metadata": {},
   "source": [
    "# Min-Max Scaling\n",
    "is a technique used to rescale data so that all values fall within a fixed range, like 0 to 1 or -1 to 1.\n",
    "It's helpful when features have different units or scales, making comparisons easier.\n",
    "The Formula:\n",
    "# scaled =(𝑥 − min) / (max − min)\n",
    "x: The original data value.\n",
    "min: The smallest value in the dataset.\n",
    "max: The largest value in the dataset.\n",
    "How It Works:\n",
    "Subtract the minimum value from 𝑥 to \"shift\" the dataset to start at 0.\n",
    "Divide by the range ( max − min) to scale it proportionally within the range.\n",
    "Example:\n",
    "Say your data is: [10, 20, 30]\n",
    "\n",
    "min = 10, max = 30.\n",
    "Step-by-step scaling to 0–1:\n",
    "\n",
    "For \n",
    "𝑥=10\n",
    "x=10:(10−10)/(30−10)=0\n",
    "For 𝑥=20\n",
    "x=20: (20−10)/(30−10)=0.5 ....\n",
    "\n",
    "# Key Points to Remember:\n",
    "Range is fixed: Data is scaled between 0 and 1 (or another specified range).\n",
    "Outliers are not removed: They still affect the scaling since they influence the min and max values.\n",
    "Models like neural networks or KNN benefit from Min-Max scaling because it ensures balanced contributions from features."
   ]
  },
  {
   "cell_type": "markdown",
   "id": "b7e7ad4f-59d2-4b29-ac43-a263c47a5430",
   "metadata": {},
   "source": [
    "# Scikitlearn implementation: "
   ]
  },
  {
   "cell_type": "code",
   "execution_count": 2,
   "id": "2fc7e479-ac63-48fc-b8a3-59d09d929e0d",
   "metadata": {},
   "outputs": [],
   "source": [
    "import pandas as pd\n",
    "from sklearn.preprocessing import MinMaxScaler"
   ]
  },
  {
   "cell_type": "code",
   "execution_count": 3,
   "id": "38c5733a-9eb7-4730-95b2-1fa5c84d2717",
   "metadata": {},
   "outputs": [
    {
     "data": {
      "text/html": [
       "<div>\n",
       "<style scoped>\n",
       "    .dataframe tbody tr th:only-of-type {\n",
       "        vertical-align: middle;\n",
       "    }\n",
       "\n",
       "    .dataframe tbody tr th {\n",
       "        vertical-align: top;\n",
       "    }\n",
       "\n",
       "    .dataframe thead th {\n",
       "        text-align: right;\n",
       "    }\n",
       "</style>\n",
       "<table border=\"1\" class=\"dataframe\">\n",
       "  <thead>\n",
       "    <tr style=\"text-align: right;\">\n",
       "      <th></th>\n",
       "      <th>Feature1</th>\n",
       "      <th>Feature2</th>\n",
       "    </tr>\n",
       "  </thead>\n",
       "  <tbody>\n",
       "    <tr>\n",
       "      <th>0</th>\n",
       "      <td>1</td>\n",
       "      <td>6</td>\n",
       "    </tr>\n",
       "    <tr>\n",
       "      <th>1</th>\n",
       "      <td>5</td>\n",
       "      <td>7</td>\n",
       "    </tr>\n",
       "    <tr>\n",
       "      <th>2</th>\n",
       "      <td>10</td>\n",
       "      <td>8</td>\n",
       "    </tr>\n",
       "    <tr>\n",
       "      <th>3</th>\n",
       "      <td>4</td>\n",
       "      <td>19</td>\n",
       "    </tr>\n",
       "    <tr>\n",
       "      <th>4</th>\n",
       "      <td>5</td>\n",
       "      <td>10</td>\n",
       "    </tr>\n",
       "  </tbody>\n",
       "</table>\n",
       "</div>"
      ],
      "text/plain": [
       "   Feature1  Feature2\n",
       "0         1         6\n",
       "1         5         7\n",
       "2        10         8\n",
       "3         4        19\n",
       "4         5        10"
      ]
     },
     "execution_count": 3,
     "metadata": {},
     "output_type": "execute_result"
    }
   ],
   "source": [
    "data = {\n",
    "    'Feature1' : [1,5,10,4,5],\n",
    "    'Feature2' : [6,7,8,19,10]\n",
    "}\n",
    "df = pd.DataFrame(data)\n",
    "df.head()"
   ]
  },
  {
   "cell_type": "code",
   "execution_count": 4,
   "id": "a9c1d4cd-d520-4509-9ba7-f9bdc85f96f6",
   "metadata": {},
   "outputs": [],
   "source": [
    "scaler = MinMaxScaler()\n",
    "scaled_data = scaler.fit_transform(df)\n",
    "scaled_df = pd.DataFrame(scaled_data, columns = df.columns)"
   ]
  },
  {
   "cell_type": "code",
   "execution_count": 9,
   "id": "19797f45-87f7-4248-ab77-c7f9d774267c",
   "metadata": {},
   "outputs": [
    {
     "name": "stdout",
     "output_type": "stream",
     "text": [
      "Original DataFrame:\n",
      "    Feature1  Feature2\n",
      "0         1         6\n",
      "1         5         7\n",
      "2        10         8\n",
      "3         4        19\n",
      "4         5        10\n",
      "Scaled DataFrame:\n",
      "    Feature1  Feature2\n",
      "0  0.000000  0.000000\n",
      "1  0.444444  0.076923\n",
      "2  1.000000  0.153846\n",
      "3  0.333333  1.000000\n",
      "4  0.444444  0.307692\n"
     ]
    }
   ],
   "source": [
    "print(\"Original DataFrame:\\n\",df)\n",
    "print(\"Scaled DataFrame:\\n\",scaled_df)"
   ]
  },
  {
   "cell_type": "markdown",
   "id": "0a4be401-4d50-4b12-bf0e-7fb4f485c93f",
   "metadata": {},
   "source": [
    "# Standardization (Z Score)\n"
   ]
  },
  {
   "cell_type": "markdown",
   "id": "a65777b3-1415-474c-8546-6ae20fada1dc",
   "metadata": {},
   "source": [
    "# Standardization (Z-Score Scaling)\n",
    "\n",
    "### What is Standardization?\n",
    "Standardization (also known as **Z-Score Scaling**) is a technique used to transform data so that it has:\n",
    "1. A **mean (average)** of 0.\n",
    "2. A **standard deviation** of 1.\n",
    "\n",
    "This ensures that the data is scaled properly and can be compared or used in machine learning models.\n",
    "\n",
    "---\n",
    "\n",
    "### Formula:\n",
    "\\[\n",
    "z = \\frac{x - \\mu}{\\sigma}\n",
    "\\]\n",
    "\n",
    "Where:\n",
    "- \\( z \\): The standardized value.\n",
    "- \\( x \\): The original value.\n",
    "- \\( \\mu \\): The mean of the dataset.\n",
    "- \\( \\sigma \\): The standard deviation of the dataset.\n",
    "\n",
    "---\n",
    "\n",
    "### Steps:\n",
    "1. Subtract the **mean** (\\( \\mu \\)) from each value (\\( x \\)) to center the data around 0.\n",
    "2. Divide by the **standard deviation** (\\( \\sigma \\)) to ensure a standard deviation of 1.\n",
    "\n",
    "---\n",
    "\n",
    "### Example:\n",
    "Suppose the data is: **[10, 20, 30]**\n",
    "\n",
    "1. **Calculate Mean (\\( \\mu \\)):**\n",
    "   \\[\n",
    "   \\mu = \\frac{10 + 20 + 30}{3} = 20\n",
    "   \\]\n",
    "\n",
    "2. **Calculate Standard Deviation (\\( \\sigma \\)):**\n",
    "   \\[\n",
    "   \\sigma = \\sqrt{\\frac{(10-20)^2 + (20-20)^2 + (30-20)^2}{3}} = 8.16\n",
    "   \\]\n",
    "\n",
    "3. **Apply Z-Score Formula:**\n",
    "   - For \\( x = 10 \\):\n",
    "     \\[\n",
    "     z = \\frac{10 - 20}{8.16} = -1.22\n",
    "     \\]\n",
    "   - For \\( x = 20 \\):\n",
    "     \\[\n",
    "     z = \\frac{20 - 20}{8.16} = 0\n",
    "     \\]\n",
    "   - For \\( x = 30 \\):\n",
    "     \\[\n",
    "     z = \\frac{30 - 20}{8.16} = 1.22\n",
    "     \\]\n",
    "\n",
    "**Result**: **[-1.22, 0, 1.22]**\n",
    "\n",
    "---\n",
    "\n",
    "### Key Points:\n",
    "- After standardization:\n",
    "  - The **mean becomes 0**.\n",
    "  - The **standard deviation becomes 1**.\n",
    "- **Outliers** are not suppressed, as data is not bounded to a fixed range.\n",
    "- **When to Use**: \n",
    "  - Use for algorithms that assume normally distributed data, such as **SVM, Logistic Regression, or PCA**.\n"
   ]
  },
  {
   "cell_type": "code",
   "execution_count": 10,
   "id": "7f175269-56c5-420d-985c-70bbd955ebcb",
   "metadata": {},
   "outputs": [],
   "source": [
    "import pandas as pd"
   ]
  },
  {
   "cell_type": "code",
   "execution_count": 11,
   "id": "543df7cf-3a6d-4d78-9826-d7b897070c08",
   "metadata": {},
   "outputs": [
    {
     "data": {
      "text/html": [
       "<div>\n",
       "<style scoped>\n",
       "    .dataframe tbody tr th:only-of-type {\n",
       "        vertical-align: middle;\n",
       "    }\n",
       "\n",
       "    .dataframe tbody tr th {\n",
       "        vertical-align: top;\n",
       "    }\n",
       "\n",
       "    .dataframe thead th {\n",
       "        text-align: right;\n",
       "    }\n",
       "</style>\n",
       "<table border=\"1\" class=\"dataframe\">\n",
       "  <thead>\n",
       "    <tr style=\"text-align: right;\">\n",
       "      <th></th>\n",
       "      <th>Feature 1</th>\n",
       "      <th>Feature 2</th>\n",
       "    </tr>\n",
       "  </thead>\n",
       "  <tbody>\n",
       "    <tr>\n",
       "      <th>0</th>\n",
       "      <td>1</td>\n",
       "      <td>6</td>\n",
       "    </tr>\n",
       "    <tr>\n",
       "      <th>1</th>\n",
       "      <td>20</td>\n",
       "      <td>7</td>\n",
       "    </tr>\n",
       "    <tr>\n",
       "      <th>2</th>\n",
       "      <td>3</td>\n",
       "      <td>18</td>\n",
       "    </tr>\n",
       "    <tr>\n",
       "      <th>3</th>\n",
       "      <td>40</td>\n",
       "      <td>19</td>\n",
       "    </tr>\n",
       "    <tr>\n",
       "      <th>4</th>\n",
       "      <td>5</td>\n",
       "      <td>10</td>\n",
       "    </tr>\n",
       "  </tbody>\n",
       "</table>\n",
       "</div>"
      ],
      "text/plain": [
       "   Feature 1  Feature 2\n",
       "0          1          6\n",
       "1         20          7\n",
       "2          3         18\n",
       "3         40         19\n",
       "4          5         10"
      ]
     },
     "execution_count": 11,
     "metadata": {},
     "output_type": "execute_result"
    }
   ],
   "source": [
    "data = {\n",
    "    'Feature 1': [1,20,3,40,5],\n",
    "    'Feature 2': [6,7,18,19,10]\n",
    "}\n",
    "df= pd.DataFrame(data)\n",
    "df.head()"
   ]
  },
  {
   "cell_type": "markdown",
   "id": "8a3377e2-e9f6-41dc-b26b-ecc99d672da5",
   "metadata": {},
   "source": [
    "# Sklearn"
   ]
  },
  {
   "cell_type": "code",
   "execution_count": 12,
   "id": "b1ab5f01-8b80-4a74-800e-0d3243e5a4cf",
   "metadata": {},
   "outputs": [],
   "source": [
    "from sklearn.preprocessing import StandardScaler"
   ]
  },
  {
   "cell_type": "code",
   "execution_count": 14,
   "id": "234e0373-4c65-414e-87b4-f55d76ce901e",
   "metadata": {},
   "outputs": [],
   "source": [
    "scaler = StandardScaler()\n",
    "standardized_data = scaler.fit_transform(df)\n",
    "standardized_df = pd.DataFrame(standardized_data, columns= df.columns)"
   ]
  },
  {
   "cell_type": "code",
   "execution_count": 20,
   "id": "007c060c-53a5-41bd-a5bc-6ee330df1552",
   "metadata": {},
   "outputs": [
    {
     "name": "stdout",
     "output_type": "stream",
     "text": [
      "Original DataFrame: \n",
      "    Feature 1  Feature 2\n",
      "0          1          6\n",
      "1         20          7\n",
      "2          3         18\n",
      "3         40         19\n",
      "4          5         10\n",
      "Standardized DataFrame: sklearn \n",
      "    Feature 1  Feature 2\n",
      "0  -0.869803  -1.095445\n",
      "1   0.421311  -0.912871\n",
      "2  -0.733896   1.095445\n",
      "3   1.780378   1.278019\n",
      "4  -0.597989  -0.365148\n"
     ]
    }
   ],
   "source": [
    "print('Original DataFrame: \\n',df)\n",
    "print('Standardized DataFrame: sklearn \\n',standardized_df)"
   ]
  },
  {
   "cell_type": "code",
   "execution_count": null,
   "id": "c06bc855-8aef-444d-9ead-e7e9bb0783ed",
   "metadata": {},
   "outputs": [],
   "source": []
  }
 ],
 "metadata": {
  "kernelspec": {
   "display_name": "Python 3 (ipykernel)",
   "language": "python",
   "name": "python3"
  },
  "language_info": {
   "codemirror_mode": {
    "name": "ipython",
    "version": 3
   },
   "file_extension": ".py",
   "mimetype": "text/x-python",
   "name": "python",
   "nbconvert_exporter": "python",
   "pygments_lexer": "ipython3",
   "version": "3.12.4"
  }
 },
 "nbformat": 4,
 "nbformat_minor": 5
}
