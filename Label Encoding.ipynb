{
 "cells": [
  {
   "cell_type": "markdown",
   "id": "e5662b2b-3be1-42c2-9e14-dba932b3108f",
   "metadata": {},
   "source": [
    "# Label Encoding:\n",
    "Label encoding assigns each unique category value a numerical code. \n",
    "It is straightforward but introduces a new problem: the model might infer a natural \n",
    "ordering in categories, which might not be intended. For example: [\"red\"\n",
    "< \"blue\" < \"green\"] to [O, 1, 2]"
   ]
  },
  {
   "cell_type": "code",
   "execution_count": 2,
   "id": "c0447a35-a9a9-4035-8a6b-2e881fe77fd7",
   "metadata": {},
   "outputs": [
    {
     "name": "stdout",
     "output_type": "stream",
     "text": [
      "Encoded labels: [0, 1, 2, 2, 3, 3, 0, 1, 2, 3, 0, 1]\n",
      "Decoded labels: ['ClassA', 'ClassB', 'ClassC', 'ClassC', 'ClassD', 'ClassD', 'ClassA', 'ClassB', 'ClassC', 'ClassD', 'ClassA', 'ClassB']\n"
     ]
    }
   ],
   "source": [
    "# List of unique classes\n",
    "classes = ['ClassA', 'ClassB', 'ClassC', 'ClassD']  # Define the categories/classes\n",
    "\n",
    "# List of instances to encode\n",
    "instances = ['ClassA', 'ClassB', 'ClassC', 'ClassC', 'ClassD',\n",
    "             'ClassD', 'ClassA', 'ClassB', 'ClassC', 'ClassD',\n",
    "             'ClassA', 'ClassB']  # The data you want to encode using the class mapping\n",
    "\n",
    "# Step 1: Create a mapping of label to integer\n",
    "# Use enumerate to assign a unique integer to each class\n",
    "label_to_int = {label: index for index, label in enumerate(classes)}\n",
    "\n",
    "# Step 2: Encode instances into integers\n",
    "# Replace each class label in the instances list with its corresponding integer\n",
    "encoded_labels = [label_to_int[label] for label in instances]\n",
    "\n",
    "# Step 3: Create a reverse mapping (integer to label)\n",
    "# Create a dictionary to map integers back to their original class labels\n",
    "int_to_label = {index: label for label, index in label_to_int.items()}\n",
    "\n",
    "# Step 4: Decode integers back to labels\n",
    "# Replace each integer in encoded_labels with its corresponding class label\n",
    "decoded_labels = [int_to_label[index] for index in encoded_labels]\n",
    "\n",
    "# Print results\n",
    "print(\"Encoded labels:\", encoded_labels)  # Display the encoded numerical labels\n",
    "print(\"Decoded labels:\", decoded_labels)  # Verify that decoding matches the original instances\n"
   ]
  },
  {
   "cell_type": "markdown",
   "id": "74cacad4-59b9-4e2c-b636-3d6fe74dee9f",
   "metadata": {},
   "source": [
    "# Sklearn - Label Encoder"
   ]
  },
  {
   "cell_type": "code",
   "execution_count": 3,
   "id": "a8b43a00-5021-4c84-a12c-3e3c096155c9",
   "metadata": {},
   "outputs": [],
   "source": [
    "from sklearn.preprocessing import LabelEncoder"
   ]
  },
  {
   "cell_type": "code",
   "execution_count": 5,
   "id": "f1d9a2e9-c3f0-4bad-8422-6fdd27accc93",
   "metadata": {},
   "outputs": [
    {
     "name": "stdout",
     "output_type": "stream",
     "text": [
      "Encoded labels:  [0 1 2 2 3 3 0 1 2 3 0 1]\n"
     ]
    }
   ],
   "source": [
    "label_encoder = LabelEncoder()\n",
    "encoded_labels = label_encoder.fit_transform(instances)\n",
    "\n",
    "print('Encoded labels: ',encoded_labels)"
   ]
  },
  {
   "cell_type": "code",
   "execution_count": 6,
   "id": "a4c2358c-2e4e-4eb8-8525-82e168d4269b",
   "metadata": {},
   "outputs": [
    {
     "name": "stdout",
     "output_type": "stream",
     "text": [
      "Encoded labels:  [0 1 2 2 3 3 0 1 2 3 0 1]\n",
      "Original labels:  ['ClassA' 'ClassB' 'ClassC' 'ClassC' 'ClassD' 'ClassD' 'ClassA' 'ClassB'\n",
      " 'ClassC' 'ClassD' 'ClassA' 'ClassB']\n"
     ]
    }
   ],
   "source": [
    "original_labels= label_encoder.inverse_transform(encoded_labels)\n",
    "print('Encoded labels: ',encoded_labels)\n",
    "print('Original labels: ',original_labels)"
   ]
  }
 ],
 "metadata": {
  "kernelspec": {
   "display_name": "Python 3 (ipykernel)",
   "language": "python",
   "name": "python3"
  },
  "language_info": {
   "codemirror_mode": {
    "name": "ipython",
    "version": 3
   },
   "file_extension": ".py",
   "mimetype": "text/x-python",
   "name": "python",
   "nbconvert_exporter": "python",
   "pygments_lexer": "ipython3",
   "version": "3.12.4"
  }
 },
 "nbformat": 4,
 "nbformat_minor": 5
}
