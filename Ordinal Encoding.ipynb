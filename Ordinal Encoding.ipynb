{
 "cells": [
  {
   "cell_type": "markdown",
   "id": "3ee7e01e-9327-4ede-9015-a1cda5d6ee99",
   "metadata": {},
   "source": [
    "# Ordinal Encoding:\n",
    "Ordinal encoding is like label encoding but specifically applies to ordinal data where the order of categories is\n",
    "important (Example: \"low\" < \"medium\" < \"high\"). The categories are converted into an ordered numerical scale."
   ]
  },
  {
   "cell_type": "markdown",
   "id": "07bde8f9-ef1d-42a4-aa85-4cddcb6c889b",
   "metadata": {},
   "source": [
    "# • Advantages:\n",
    "• Directly encodes the order Of the categories, making it suitable for ordinal data.\n",
    "• Keeps the dataset's dimensionality unchanged.\n",
    "# • Disadvantages:\n",
    "• Incorrect use on nominal data can introduce artificial ordinality, leading to misleading results.\n",
    "• The choice of encoding values can impact model performance."
   ]
  },
  {
   "cell_type": "code",
   "execution_count": 1,
   "id": "3bf9c99d-3056-47ae-af60-d2552dd3e6bd",
   "metadata": {},
   "outputs": [],
   "source": [
    "import pandas as pd\n",
    "from sklearn.preprocessing import OrdinalEncoder"
   ]
  },
  {
   "cell_type": "code",
   "execution_count": 3,
   "id": "6febcefc-ce3a-4c87-84a7-eaf4e0eef8eb",
   "metadata": {},
   "outputs": [],
   "source": [
    "data = [\n",
    "    ['good'],['bad'],['excellent'],['average'],\n",
    "    ['good'],['average'],['excellent'],['bad'],\n",
    "    ['average'],['good']\n",
    "]"
   ]
  },
  {
   "cell_type": "code",
   "execution_count": 4,
   "id": "2f4144ad-b375-4036-91e3-5a06e71c89ce",
   "metadata": {},
   "outputs": [],
   "source": [
    "data = pd.DataFrame(data=data, columns=['reviews'])"
   ]
  },
  {
   "cell_type": "code",
   "execution_count": 5,
   "id": "66941f20-766f-4237-b24c-7eb1388973ee",
   "metadata": {},
   "outputs": [],
   "source": [
    "categories = [['bad','average','good','excellent']]"
   ]
  },
  {
   "cell_type": "code",
   "execution_count": 6,
   "id": "1310c3f1-a574-40e9-9105-03ac353126fd",
   "metadata": {},
   "outputs": [],
   "source": [
    "encoder = OrdinalEncoder(categories=categories)"
   ]
  },
  {
   "cell_type": "code",
   "execution_count": 7,
   "id": "1ba72b8f-63ab-43f2-8e39-867394a98aa2",
   "metadata": {},
   "outputs": [
    {
     "data": {
      "text/plain": [
       "array([[2.],\n",
       "       [0.],\n",
       "       [3.],\n",
       "       [1.],\n",
       "       [2.],\n",
       "       [1.],\n",
       "       [3.],\n",
       "       [0.],\n",
       "       [1.],\n",
       "       [2.]])"
      ]
     },
     "execution_count": 7,
     "metadata": {},
     "output_type": "execute_result"
    }
   ],
   "source": [
    "encoded_data = encoder.fit_transform(data)\n",
    "encoded_data"
   ]
  },
  {
   "cell_type": "code",
   "execution_count": 9,
   "id": "5a5ac985-d1ba-4b80-a10f-31eba0cc603c",
   "metadata": {},
   "outputs": [
    {
     "data": {
      "text/plain": [
       "array([['good'],\n",
       "       ['bad'],\n",
       "       ['excellent'],\n",
       "       ['average'],\n",
       "       ['good'],\n",
       "       ['average'],\n",
       "       ['excellent'],\n",
       "       ['bad'],\n",
       "       ['average'],\n",
       "       ['good']], dtype=object)"
      ]
     },
     "execution_count": 9,
     "metadata": {},
     "output_type": "execute_result"
    }
   ],
   "source": [
    "decoded_data=encoder.inverse_transform(encoded_data)\n",
    "decoded_data"
   ]
  }
 ],
 "metadata": {
  "kernelspec": {
   "display_name": "Python 3 (ipykernel)",
   "language": "python",
   "name": "python3"
  },
  "language_info": {
   "codemirror_mode": {
    "name": "ipython",
    "version": 3
   },
   "file_extension": ".py",
   "mimetype": "text/x-python",
   "name": "python",
   "nbconvert_exporter": "python",
   "pygments_lexer": "ipython3",
   "version": "3.12.4"
  }
 },
 "nbformat": 4,
 "nbformat_minor": 5
}
