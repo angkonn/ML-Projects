{
 "cells": [
  {
   "cell_type": "markdown",
   "id": "72b7fed2-197e-46b5-8072-db9954024e72",
   "metadata": {},
   "source": [
    "# Pearson Correlation Coefficient\n",
    "Pearson correlation is a statistical measure that quantifies the strength and direction of the linear relationship between two continuous variables. It's denoted by the symbol \"r\" and can range from -1 to 1.\n",
    "1. If the correlation coefficient is 1, it indicates a perfect positive linear relationship,\n",
    "meaning that as one variable increases, the other variable also increases proportionally.\n",
    "2. If the correlation coefficient is -1, it indicates a perfect negative linear relationship,\n",
    "meaning that as one variable increases, the other variable decreases proportionally.\n",
    "3. If the correlation coefficient is O, it indicates no linear relationship between the\n",
    "variables."
   ]
  },
  {
   "cell_type": "code",
   "execution_count": 1,
   "id": "3694b5c4-357b-411a-bc59-678de5d6e81c",
   "metadata": {},
   "outputs": [],
   "source": [
    "import pandas as pd"
   ]
  },
  {
   "cell_type": "code",
   "execution_count": 3,
   "id": "aa7577da-5875-445d-b317-2eabf723da03",
   "metadata": {},
   "outputs": [],
   "source": [
    "data = {\n",
    "    'X': [1,2,3,4,5,7,10],\n",
    "    'Y':[2,3,5,4,6,6,8]\n",
    "}"
   ]
  },
  {
   "cell_type": "code",
   "execution_count": 4,
   "id": "1b7ec138-3522-457b-b427-08b4e684c0fa",
   "metadata": {},
   "outputs": [
    {
     "data": {
      "text/plain": [
       "{'X': [1, 2, 3, 4, 5, 7, 10], 'Y': [2, 3, 5, 4, 6, 6, 8]}"
      ]
     },
     "execution_count": 4,
     "metadata": {},
     "output_type": "execute_result"
    }
   ],
   "source": [
    "data"
   ]
  },
  {
   "cell_type": "code",
   "execution_count": 5,
   "id": "18454e31-1f95-44d8-9bb0-130a09c2742c",
   "metadata": {},
   "outputs": [
    {
     "data": {
      "text/html": [
       "<div>\n",
       "<style scoped>\n",
       "    .dataframe tbody tr th:only-of-type {\n",
       "        vertical-align: middle;\n",
       "    }\n",
       "\n",
       "    .dataframe tbody tr th {\n",
       "        vertical-align: top;\n",
       "    }\n",
       "\n",
       "    .dataframe thead th {\n",
       "        text-align: right;\n",
       "    }\n",
       "</style>\n",
       "<table border=\"1\" class=\"dataframe\">\n",
       "  <thead>\n",
       "    <tr style=\"text-align: right;\">\n",
       "      <th></th>\n",
       "      <th>X</th>\n",
       "      <th>Y</th>\n",
       "    </tr>\n",
       "  </thead>\n",
       "  <tbody>\n",
       "    <tr>\n",
       "      <th>0</th>\n",
       "      <td>1</td>\n",
       "      <td>2</td>\n",
       "    </tr>\n",
       "    <tr>\n",
       "      <th>1</th>\n",
       "      <td>2</td>\n",
       "      <td>3</td>\n",
       "    </tr>\n",
       "    <tr>\n",
       "      <th>2</th>\n",
       "      <td>3</td>\n",
       "      <td>5</td>\n",
       "    </tr>\n",
       "    <tr>\n",
       "      <th>3</th>\n",
       "      <td>4</td>\n",
       "      <td>4</td>\n",
       "    </tr>\n",
       "    <tr>\n",
       "      <th>4</th>\n",
       "      <td>5</td>\n",
       "      <td>6</td>\n",
       "    </tr>\n",
       "  </tbody>\n",
       "</table>\n",
       "</div>"
      ],
      "text/plain": [
       "   X  Y\n",
       "0  1  2\n",
       "1  2  3\n",
       "2  3  5\n",
       "3  4  4\n",
       "4  5  6"
      ]
     },
     "execution_count": 5,
     "metadata": {},
     "output_type": "execute_result"
    }
   ],
   "source": [
    "df = pd.DataFrame(data)\n",
    "df.head()"
   ]
  },
  {
   "cell_type": "markdown",
   "id": "2965ac99-3712-490f-bb39-c7dade0b9d4e",
   "metadata": {},
   "source": [
    "# Calculate Pearson Correlation"
   ]
  },
  {
   "cell_type": "code",
   "execution_count": 6,
   "id": "eb169de2-4b0b-4f72-b2c3-4ea2b2307f7c",
   "metadata": {},
   "outputs": [
    {
     "name": "stdout",
     "output_type": "stream",
     "text": [
      "Pearson Correlation Coefficient:  0.9391480052471199\n"
     ]
    }
   ],
   "source": [
    "pearson_corr = df['X'].corr(df['Y'])\n",
    "print('Pearson Correlation Coefficient: ', pearson_corr)"
   ]
  },
  {
   "cell_type": "code",
   "execution_count": 7,
   "id": "0e5f4031-13fe-4def-84b2-e01d44e2adc4",
   "metadata": {},
   "outputs": [
    {
     "data": {
      "text/html": [
       "<div>\n",
       "<style scoped>\n",
       "    .dataframe tbody tr th:only-of-type {\n",
       "        vertical-align: middle;\n",
       "    }\n",
       "\n",
       "    .dataframe tbody tr th {\n",
       "        vertical-align: top;\n",
       "    }\n",
       "\n",
       "    .dataframe thead th {\n",
       "        text-align: right;\n",
       "    }\n",
       "</style>\n",
       "<table border=\"1\" class=\"dataframe\">\n",
       "  <thead>\n",
       "    <tr style=\"text-align: right;\">\n",
       "      <th></th>\n",
       "      <th>X</th>\n",
       "      <th>Y</th>\n",
       "    </tr>\n",
       "  </thead>\n",
       "  <tbody>\n",
       "    <tr>\n",
       "      <th>X</th>\n",
       "      <td>1.000000</td>\n",
       "      <td>0.939148</td>\n",
       "    </tr>\n",
       "    <tr>\n",
       "      <th>Y</th>\n",
       "      <td>0.939148</td>\n",
       "      <td>1.000000</td>\n",
       "    </tr>\n",
       "  </tbody>\n",
       "</table>\n",
       "</div>"
      ],
      "text/plain": [
       "          X         Y\n",
       "X  1.000000  0.939148\n",
       "Y  0.939148  1.000000"
      ]
     },
     "execution_count": 7,
     "metadata": {},
     "output_type": "execute_result"
    }
   ],
   "source": [
    "df.corr()"
   ]
  }
 ],
 "metadata": {
  "kernelspec": {
   "display_name": "Python 3 (ipykernel)",
   "language": "python",
   "name": "python3"
  },
  "language_info": {
   "codemirror_mode": {
    "name": "ipython",
    "version": 3
   },
   "file_extension": ".py",
   "mimetype": "text/x-python",
   "name": "python",
   "nbconvert_exporter": "python",
   "pygments_lexer": "ipython3",
   "version": "3.12.4"
  }
 },
 "nbformat": 4,
 "nbformat_minor": 5
}
