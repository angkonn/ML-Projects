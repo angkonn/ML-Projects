{
 "cells": [
  {
   "cell_type": "code",
   "metadata": {},
   "source": [
    "import pandas as pd\n",
    "\n",
    "data = pd.read_csv('netflix_titles.csv')\n",
    "\n",
    "print(data.head())\n",
    "\n",
    "print(data.info())\n",
    "\n",
    "print(data.isnull().sum())\n",
    "\n",
    "data.dropna(subset=['title'], inplace=True)\n",
    "\n",
    "data['country'].fillna(\"Unknown\", inplace=True)\n",
    "data['rating'].fillna(\"Unknown\", inplace=True)\n",
    "\n",
    "print(data.isnull().sum())\n"
   ],
   "execution_count": null,
   "outputs": []
  },
  {
   "cell_type": "code",
   "metadata": {},
   "source": [
    "import matplotlib.pyplot as plt\n",
    "\n",    
    "content_type_counts = data['type'].value_counts()\n",
    "\n",
    "content_type_counts = content_type_counts.reindex(['Movie', 'TV Show'], fill_value=0)\n",
    "\n",
    "# Plot with Netflix-inspired colors\n",
    "colors = ['#E50914', '#221f1f']  # Netflix red and dark gray\n",
    "fig, ax = plt.subplots()\n",
    "content_type_counts.plot(kind='bar', color=colors, edgecolor='black', ax=ax)\n",
    "\n",
    "# Setting theme\n",
    "ax.set_title(\"Content Type Distribution\", color='white', fontsize=14)\n",
    "ax.set_xlabel(\"Type\", color='white', fontsize=12)\n",
    "ax.set_ylabel(\"Number of Titles\", color='white', fontsize=12)\n",
    "ax.set_xticklabels(['Movie', 'TV Show'], color='white', rotation=0, fontsize=10)\n",
    "ax.set_yticklabels(ax.get_yticks(), color='white', fontsize=10)\n",
    "plt.grid(axis='y', linestyle='--', color='gray', alpha=0.3)\n",
    "ax.set_facecolor('#121212')\n",
    "fig.patch.set_facecolor('#121212')\n",
    "\n",
    "plt.show()"
   ],
   "execution_count": null,
   "outputs": []
  },
  {
   "cell_type": "code",
   "metadata": {},
   "source": [
    "top_countries = data['country'].value_counts().head(10)\n",
    "\n",
    "fig, ax = plt.subplots()\n",
    "top_countries.plot(kind='bar', color='#E50914', edgecolor='black', ax=ax)\n",
    "\n",
    "# Setting theme\n",
    "ax.set_title(\"Top 10 Content-Producing Countries\", color='white', fontsize=14)\n",
    "ax.set_xlabel(\"Country\", color='white', fontsize=12)\n",
    "ax.set_ylabel(\"Number of Titles\", color='white', fontsize=12)\n",
    "ax.set_xticklabels(top_countries.index, color='white', rotation=45, fontsize=10)\n",
    "ax.set_yticklabels(ax.get_yticks(), color='white', fontsize=10)\n",
    "plt.grid(axis='y', linestyle='--', color='gray', alpha=0.3)\n",
    "ax.set_facecolor('#121212')\n",
    "fig.patch.set_facecolor('#121212')\n",
    "\n",
    "plt.show()"
   ],
   "execution_count": null,
   "outputs": []
  },
  {
   "cell_type": "code",
   "metadata": {},
   "source": [
    "data['date_added'] = pd.to_datetime(data['date_added'], errors='coerce')\n",
    "\n",
    "data['year_added'] = data['date_added'].dt.year\n",
    "titles_by_year = data['year_added'].value_counts().sort_index()\n",
    "\n",
    "# Plotting\n",
    "fig, ax = plt.subplots()\n",
    "titles_by_year.plot(kind='line', color='#E50914', linewidth=2, ax=ax)\n",
    "\n",
    "# Setting theme\n",
    "ax.set_title(\"Number of Titles Added Over the Years\", color='white', fontsize=14)\n",
    "ax.set_xlabel(\"Year\", color='white', fontsize=12)\n",
    "ax.set_ylabel(\"Number of Titles\", color='white', fontsize=12)\n",
    "ax.set_xticklabels(ax.get_xticks().astype(int), color='white', fontsize=10)\n",
    "ax.set_yticklabels(ax.get_yticks(), color='white', fontsize=10)\n",
    "plt.grid(axis='y', linestyle='--', color='gray', alpha=0.3)\n",
    "ax.set_facecolor('#121212')\n",
    "fig.patch.set_facecolor('#121212')\n",
    "\n",
    "plt.show()"
   ],
   "execution_count": null,
   "outputs": []
  }
 ],
 "metadata": {
  "kernelspec": {
   "display_name": "Python 3",
   "language": "python",
   "name": "python3"
  },
  "language_info": {
   "codemirror_mode": {
    "name": "ipython",
    "version": 3
   },
   "file_extension": ".py",
   "mimetype": "text/x-python",
   "name": "python",
   "nbconvert_exporter": "python",
   "pygments_lexer": "ipython3",
   "version": "3.8"
  }
 },
 "nbformat": 4,
 "nbformat_minor": 4
}
