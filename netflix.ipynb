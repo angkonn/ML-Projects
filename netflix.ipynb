import pandas as pd


data = pd.read_csv('netflix_titles.csv')


print(data.head())


print(data.info())

# Check for missing values
print(data.isnull().sum())

# Drop rows where 'title' is missing, as it’s essential for our analysis
data.dropna(subset=['title'], inplace=True)

# Fill missing values in 'country' and 'rating' with a placeholder (like "Unknown")
data['country'].fillna("Unknown", inplace=True)
data['rating'].fillna("Unknown", inplace=True)

# Confirm that missing values are handled
print(data.isnull().sum())


import matplotlib.pyplot as plt

# Calculate the counts of each content type
content_type_counts = data['type'].value_counts()

# Ensure both categories are present (even if one has zero)
content_type_counts = content_type_counts.reindex(['Movie', 'TV Show'], fill_value=0)

# Plot with Netflix-inspired colors
colors = ['#E50914', '#221f1f']  # Netflix red and dark gray
fig, ax = plt.subplots()
content_type_counts.plot(kind='bar', color=colors, edgecolor='black', ax=ax)

# Setting theme
ax.set_title("Content Type Distribution", color='white', fontsize=14)
ax.set_xlabel("Type", color='white', fontsize=12)
ax.set_ylabel("Number of Titles", color='white', fontsize=12)
ax.set_xticklabels(['Movie', 'TV Show'], color='white', rotation=0, fontsize=10)
ax.set_yticklabels(ax.get_yticks(), color='white', fontsize=10)
plt.grid(axis='y', linestyle='--', color='gray', alpha=0.3)
ax.set_facecolor('#121212')
fig.patch.set_facecolor('#121212')

plt.show()

# Count titles by country, then get the top 10
top_countries = data['country'].value_counts().head(10)

# Plotting
fig, ax = plt.subplots()
top_countries.plot(kind='bar', color='#E50914', edgecolor='black', ax=ax)

# Setting theme
ax.set_title("Top 10 Content-Producing Countries", color='white', fontsize=14)
ax.set_xlabel("Country", color='white', fontsize=12)
ax.set_ylabel("Number of Titles", color='white', fontsize=12)
ax.set_xticklabels(top_countries.index, color='white', rotation=45, fontsize=10)
ax.set_yticklabels(ax.get_yticks(), color='white', fontsize=10)
plt.grid(axis='y', linestyle='--', color='gray', alpha=0.3)
ax.set_facecolor('#121212')
fig.patch.set_facecolor('#121212')

plt.show()

# Convert 'date_added' to datetime to work with years
data['date_added'] = pd.to_datetime(data['date_added'], errors='coerce')

# Extract the year and count titles by each year
data['year_added'] = data['date_added'].dt.year
titles_by_year = data['year_added'].value_counts().sort_index()

# Plotting
fig, ax = plt.subplots()
titles_by_year.plot(kind='line', color='#E50914', linewidth=2, ax=ax)

# Setting theme
ax.set_title("Number of Titles Added Over the Years", color='white', fontsize=14)
ax.set_xlabel("Year", color='white', fontsize=12)
ax.set_ylabel("Number of Titles", color='white', fontsize=12)
ax.set_xticklabels(ax.get_xticks().astype(int), color='white', fontsize=10)
ax.set_yticklabels(ax.get_yticks(), color='white', fontsize=10)
plt.grid(axis='y', linestyle='--', color='gray', alpha=0.3)
ax.set_facecolor('#121212')
fig.patch.set_facecolor('#121212')

plt.show()
